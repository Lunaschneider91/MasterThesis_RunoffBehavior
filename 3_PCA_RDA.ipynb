{
 "cells": [
  {
   "cell_type": "markdown",
   "metadata": {},
   "source": [
    "## Table of Contents\n",
    "\n",
    "1. PCA & RDA overall (Main Catchments)\n",
    "2. PCA & RDA Cluster 1\n",
    "3. PCA & RDA Cluster 2\n",
    "4. PCA & RDA Cluster 3\n",
    "5. PCA & RDA Cluster 4"
   ]
  },
  {
   "cell_type": "markdown",
   "metadata": {},
   "source": [
    "# 1. PCA & RDA Overall (Main Catchments)"
   ]
  },
  {
   "cell_type": "code",
   "execution_count": 23,
   "metadata": {},
   "outputs": [
    {
     "name": "stderr",
     "output_type": "stream",
     "text": [
      "\u001b[1m\u001b[22mSaving 6.67 x 6.67 in image\n"
     ]
    },
    {
     "data": {
      "image/png": "[encoded data removed]",
      "text/plain": [
       "plot without title"
      ]
     },
     "metadata": {
      "image/png": {
       "height": 420,
       "width": 420
      }
     },
     "output_type": "display_data"
    }
   ],
   "source": [
    "# Load necessary libraries\n",
    "library(readxl)\n",
    "library(vegan)\n",
    "library(ggplot2)\n",
    "library(BiodiversityR)\n",
    "library(svglite)\n",
    "library(grid)\n",
    "\n",
    "# Load the data\n",
    "file_path <- \"C:/Users/Lenovo/Documents/Masterarbeit/Masterarbeit/3_arbeitsordner/PCA/PCA/PCA_hydrogeology_permeability_soils_landuse_elevation.xlsx\"\n",
    "\n",
    "\n",
    "data <- read_excel(file_path)\n",
    "\n",
    "# Filter the data for 'ezg_id' == 'ges_ezg'\n",
    "filtered_data <- data[data$ezg_id == \"ges_ezg\", ]\n",
    "\n",
    "# Select relevant columns\n",
    "columns_of_interest <- c('catch_area', 'CLST', 'CRMS', 'SAND', 'SAST', 'MED-MOD', \n",
    "                         'MOD', 'MOD-LOW', 'LOW-XTRLOW', 'SSCL', 'LOES', 'FORE', \n",
    "                         'AGRH', 'ARBL', 'GRAS', 'SETT', 'MEAN', 'MIN', 'MAX', \n",
    "                         'cluster', 'pegelnullpunkt')\n",
    "filtered_data <- filtered_data[, columns_of_interest]\n",
    "\n",
    "# Separate the features and the target variable (cluster)\n",
    "X <- filtered_data[, !(names(filtered_data) %in% 'cluster')]\n",
    "y <- as.factor(filtered_data$cluster)\n",
    "levels(y) <- paste(\"Cluster\", levels(y))\n",
    "\n",
    "# Standardize the features\n",
    "X_scaled <- scale(X)\n",
    "\n",
    "# Perform PCA\n",
    "pca_result <- rda(X_scaled)\n",
    "\n",
    "# Extract PCA scores\n",
    "scores <- scores(pca_result, display = \"sites\")\n",
    "\n",
    "# Create a dataframe with PCA scores and cluster information\n",
    "pca_df <- data.frame(PC1 = scores[, 1], PC2 = scores[, 2], cluster = y)\n",
    "\n",
    "# Extract the variable vectors\n",
    "vectors <- scores(pca_result, display = \"species\")\n",
    "\n",
    "# Define colors for each cluster\n",
    "colors <- c('blue', 'orange', 'green', 'red')\n",
    "names(colors) <- levels(y)\n",
    "\n",
    "# Plot the PCA results\n",
    "p <- ggplot(pca_df, aes(x = PC1, y = PC2, color = cluster)) +\n",
    "  geom_point(size = 3, alpha = 0.6) +\n",
    "  scale_color_manual(values = colors) +\n",
    "  theme_minimal() +\n",
    "  ggtitle('') +\n",
    "  xlab('PC1') +\n",
    "  ylab('PC2') +\n",
    "  theme(legend.title = element_blank(),\n",
    "       legend.position = c(0.91, 0.87),  # Position legend inside the plot\n",
    "        legend.background = element_rect(fill = alpha('white', 0.5)),  # Make the legend background semi-transparent\n",
    "        panel.grid = element_blank(),\n",
    "        axis.line = element_line(size = 0.5),\n",
    "        panel.border = element_rect(color = \"black\", fill = NA, size = 0.5),\n",
    "        axis.ticks = element_line(size = 0.5)) +\n",
    "  geom_hline(yintercept = 0, linetype = \"dotted\", color = \"black\") +\n",
    "  geom_vline(xintercept = 0, linetype = \"dotted\", color = \"black\") +\n",
    "  geom_segment(data = as.data.frame(vectors), aes(x = 0, y = 0, xend = PC1, yend = PC2), \n",
    "               arrow = arrow(length = unit(0.2, \"cm\")), color = \"black\") +\n",
    "  geom_text(data = as.data.frame(vectors), aes(x = PC1, y = PC2, label = rownames(vectors)), \n",
    "            color = \"blue\", vjust = 1.5, hjust = 1.5, size = 3) +\n",
    "  coord_fixed(xlim = c(-3, 2), ylim = c(-2, 2))  # Ensure equal scaling of both axes\n",
    "\n",
    "# Display the plot\n",
    "print(p)\n",
    "\n",
    "# Save the plot as SVG\n",
    "ggsave(\"PCA_plot.svg\", plot = p, device = \"svg\")\n"
   ]
  },
  {
   "cell_type": "markdown",
   "metadata": {},
   "source": [
    "### Loadings"
   ]
  },
  {
   "cell_type": "code",
   "execution_count": 24,
   "metadata": {},
   "outputs": [
    {
     "name": "stdout",
     "output_type": "stream",
     "text": [
      "                      PC1          PC2\n",
      "catch_area      0.2077606  0.198201941\n",
      "CLST            0.9620649 -0.571466897\n",
      "CRMS           -0.6567566 -0.451860554\n",
      "SAND           -0.6747680  0.009386075\n",
      "SAST           -0.4470682  1.105239314\n",
      "MED-MOD        -0.2799432  1.005873047\n",
      "MOD             0.6972824  0.070251001\n",
      "MOD-LOW        -0.7923939  0.469036973\n",
      "LOW-XTRLOW      0.6407742 -1.023080303\n",
      "SSCL           -0.5587963  0.450052792\n",
      "LOES           -1.0054928 -0.357175224\n",
      "FORE            0.6138053  0.625989182\n",
      "AGRH            0.3187183 -0.030219716\n",
      "ARBL           -0.7613544 -0.733361182\n",
      "GRAS            0.5504795  0.316773929\n",
      "SETT           -0.1025962  0.399898830\n",
      "MEAN            1.1795461  0.254018791\n",
      "MIN             0.5078696  0.492021573\n",
      "MAX             0.8749496  0.277370711\n",
      "pegelnullpunkt -0.3225358 -0.018542298\n",
      "attr(,\"const\")\n",
      "[1] 5.934108\n"
     ]
    },
    {
     "data": {
      "text/plain": [
       "\n",
       "Call:\n",
       "rda(X = X_scaled) \n",
       "\n",
       "Partitioning of variance:\n",
       "              Inertia Proportion\n",
       "Total              20          1\n",
       "Unconstrained      20          1\n",
       "\n",
       "Eigenvalues, and their contribution to the variance \n",
       "\n",
       "Importance of components:\n",
       "                         PC1    PC2     PC3     PC4    PC5     PC6     PC7\n",
       "Eigenvalue            5.0389 3.3964 1.80622 1.57165 1.4801 1.17552 1.09728\n",
       "Proportion Explained  0.2519 0.1698 0.09031 0.07858 0.0740 0.05878 0.05486\n",
       "Cumulative Proportion 0.2519 0.4218 0.51208 0.59066 0.6647 0.72344 0.77830\n",
       "                          PC8     PC9   PC10    PC11    PC12    PC13    PC14\n",
       "Eigenvalue            0.93814 0.87707 0.6599 0.59310 0.43172 0.34547 0.21470\n",
       "Proportion Explained  0.04691 0.04385 0.0330 0.02965 0.02159 0.01727 0.01073\n",
       "Cumulative Proportion 0.82521 0.86906 0.9021 0.93171 0.95330 0.97057 0.98131\n",
       "                          PC15     PC16     PC17     PC18     PC19      PC20\n",
       "Eigenvalue            0.117151 0.090482 0.059674 0.057488 0.032498 0.0165637\n",
       "Proportion Explained  0.005858 0.004524 0.002984 0.002874 0.001625 0.0008282\n",
       "Cumulative Proportion 0.987165 0.991689 0.994673 0.997547 0.999172 1.0000000\n"
      ]
     },
     "metadata": {},
     "output_type": "display_data"
    }
   ],
   "source": [
    "# Perform PCA\n",
    "pca_result <- rda(X_scaled)\n",
    "\n",
    "# Extract the loadings\n",
    "loadings <- scores(pca_result, display = \"species\")\n",
    "\n",
    "# Print the loadings\n",
    "print(loadings)\n",
    "summary(pca_result)"
   ]
  },
  {
   "cell_type": "markdown",
   "metadata": {},
   "source": [
    "## 2. CLUSTER 1"
   ]
  },
  {
   "cell_type": "code",
   "execution_count": 18,
   "metadata": {},
   "outputs": [
    {
     "name": "stdout",
     "output_type": "stream",
     "text": [
      " [1] \"BEZEICHNER\"     \"messstelle\"     \"catch_area\"     \"CLST\"          \n",
      " [5] \"CRMS\"           \"SAND\"           \"SAST\"           \"MED-MOD\"       \n",
      " [9] \"MOD\"            \"MOD-LOW\"        \"LOW-XTRLOW\"     \"SSCL\"          \n",
      "[13] \"LOES\"           \"FORE\"           \"AGRH\"           \"ARBL\"          \n",
      "[17] \"GRAS\"           \"SETT\"           \"MEAN\"           \"MIN\"           \n",
      "[21] \"MAX\"            \"REG\"            \"ezg_name\"       \"ezg_id\"        \n",
      "[25] \"cluster\"        \"pegelnullpunkt\"\n"
     ]
    },
    {
     "name": "stderr",
     "output_type": "stream",
     "text": [
      "\u001b[1m\u001b[22mSaving 6.67 x 6.67 in image\n"
     ]
    }
   ],
   "source": [
    "# Load necessary libraries\n",
    "library(readxl)\n",
    "library(vegan)\n",
    "library(ggplot2)\n",
    "library(svglite)\n",
    "library(grid)  # Needed for annotation_custom\n",
    "\n",
    "# Define file path for cluster 1\n",
    "file_path <- \"C:/Users/Lenovo/Documents/Masterarbeit/Masterarbeit/3_arbeitsordner/PCA/PCA/cluster_1.xlsx\"\n",
    "\n",
    "# Load the data\n",
    "data <- read_excel(file_path)\n",
    "\n",
    "# Print the actual column names to understand the structure\n",
    "print(colnames(data))\n",
    "\n",
    "# Select only the numeric columns\n",
    "numeric_columns <- c('catch_area', 'CLST', 'CRMS', 'SAND', 'SAST', 'MED-MOD', \n",
    "                     'MOD', 'MOD-LOW', 'LOW-XTRLOW', 'SSCL', 'LOES', 'FORE', \n",
    "                     'AGRH', 'ARBL', 'GRAS', 'SETT', 'MEAN', 'MIN', 'MAX', \n",
    "                     'pegelnullpunkt')\n",
    "\n",
    "data_numeric <- data[, numeric_columns]\n",
    "\n",
    "# Standardize the features\n",
    "X_scaled1 <- scale(data_numeric)\n",
    "\n",
    "# Perform PCA\n",
    "pca_result1 <- rda(X_scaled1)\n",
    "\n",
    "# Extract PCA scores\n",
    "scores <- scores(pca_result1, display = \"sites\")\n",
    "pca_df <- data.frame(PC1 = scores[, 1], PC2 = scores[, 2], cluster = \"Cluster 1\")\n",
    "\n",
    "# Extract variable vectors\n",
    "vectors <- scores(pca_result1, display = \"species\")\n",
    "\n",
    "# Define color for the cluster\n",
    "color <- 'blue'\n",
    "\n",
    "# Plot the PCA results\n",
    "p1 <- ggplot(pca_df, aes(x = PC1, y = PC2, color = cluster)) +\n",
    "  geom_point(size = 3, alpha = 0.6) +\n",
    "  scale_color_manual(values = setNames(color, \"Cluster 1\")) +\n",
    "  theme_minimal() +\n",
    "  ggtitle('') +\n",
    "  xlab('PC1') +\n",
    "  ylab('PC2') +\n",
    "  theme(legend.title = element_blank(),\n",
    "        legend.position = c(0.90, 0.90),  # Position legend inside the plot\n",
    "        legend.background = element_rect(fill = alpha('white', 0.5)),  # Make the legend background semi-transparent\n",
    "        panel.grid = element_blank(),\n",
    "        axis.line = element_line(size = 0.5),\n",
    "        panel.border = element_rect(color = \"black\", fill = NA, size = 0.5),\n",
    "        axis.ticks = element_line(size = 0.5)) +\n",
    "  geom_hline(yintercept = 0, linetype = \"dotted\", color = \"black\") +\n",
    "  geom_vline(xintercept = 0, linetype = \"dotted\", color = \"black\") +\n",
    "  geom_segment(data = as.data.frame(vectors), aes(x = 0, y = 0, xend = PC1, yend = PC2), \n",
    "               arrow = arrow(length = unit(0.2, \"cm\")), color = \"black\") +\n",
    "  geom_text(data = as.data.frame(vectors), aes(x = PC1, y = PC2, label = rownames(vectors)), \n",
    "            color = \"blue\", vjust = 1.5, hjust = 1.5, size = 3) +\n",
    "  coord_fixed(xlim = c(-3, 3), ylim = c(-2, 2)) +  # Ensure equal scaling of both axes\n",
    "  annotation_custom(grob = textGrob(\"(a)\", x = unit(0.05, \"npc\"), y = unit(0.95, \"npc\"), gp = gpar(fontsize = 15)))  # Add (a) in the plot\n",
    "\n",
    "# Save the plot as SVG\n",
    "ggsave(\"PCA_plot_cluster_1_with_annotations.svg\", plot = p1, device = \"svg\")\n"
   ]
  },
  {
   "cell_type": "markdown",
   "metadata": {},
   "source": [
    "## Loadings"
   ]
  },
  {
   "cell_type": "code",
   "execution_count": 25,
   "metadata": {},
   "outputs": [
    {
     "name": "stdout",
     "output_type": "stream",
     "text": [
      "                       PC1         PC2\n",
      "catch_area      0.35575354 -0.04162531\n",
      "CLST            0.04923836 -1.00257534\n",
      "CRMS            0.27955118  0.11627564\n",
      "SAND            0.04392156 -0.06569668\n",
      "SAST            0.77780904  0.55331677\n",
      "MED-MOD         0.16223261 -0.09760789\n",
      "MOD             0.64160126  0.16830598\n",
      "MOD-LOW         0.43071509  0.67807503\n",
      "LOW-XTRLOW     -0.81279772 -0.18719189\n",
      "SSCL           -0.62456390  0.76585839\n",
      "LOES           -0.10915880  0.11849339\n",
      "FORE            0.43619851 -0.69140721\n",
      "AGRH            0.09189873  0.37652451\n",
      "ARBL           -0.83077247  0.42018363\n",
      "GRAS            0.71328039  0.13000921\n",
      "SETT            0.29080939 -0.10478975\n",
      "MEAN            0.86230305 -0.04527599\n",
      "MIN             0.57311253  0.53979431\n",
      "MAX             0.89552686 -0.04551452\n",
      "pegelnullpunkt -0.42018501  0.27766438\n",
      "attr(,\"const\")\n",
      "[1] 4.820571\n"
     ]
    },
    {
     "data": {
      "text/plain": [
       "\n",
       "Call:\n",
       "rda(X = X_scaled1) \n",
       "\n",
       "Partitioning of variance:\n",
       "              Inertia Proportion\n",
       "Total              20          1\n",
       "Unconstrained      20          1\n",
       "\n",
       "Eigenvalues, and their contribution to the variance \n",
       "\n",
       "Importance of components:\n",
       "                         PC1    PC2    PC3    PC4     PC5     PC6     PC7\n",
       "Eigenvalue            5.1923 3.1509 2.6789 2.0016 1.34572 1.27906 1.07935\n",
       "Proportion Explained  0.2596 0.1575 0.1339 0.1001 0.06729 0.06395 0.05397\n",
       "Cumulative Proportion 0.2596 0.4172 0.5511 0.6512 0.71847 0.78242 0.83639\n",
       "                          PC8     PC9    PC10    PC11    PC12     PC13     PC14\n",
       "Eigenvalue            0.92914 0.62479 0.54575 0.41777 0.24842 0.192734 0.120010\n",
       "Proportion Explained  0.04646 0.03124 0.02729 0.02089 0.01242 0.009637 0.006001\n",
       "Cumulative Proportion 0.88285 0.91409 0.94138 0.96226 0.97469 0.984322 0.990323\n",
       "                         PC15     PC16     PC17      PC18      PC19      PC20\n",
       "Eigenvalue            0.09259 0.058867 0.028077 0.0129305 8.401e-04 2.407e-04\n",
       "Proportion Explained  0.00463 0.002943 0.001404 0.0006465 4.201e-05 1.203e-05\n",
       "Cumulative Proportion 0.99495 0.997896 0.999299 0.9999460 1.000e+00 1.000e+00\n"
      ]
     },
     "metadata": {},
     "output_type": "display_data"
    }
   ],
   "source": [
    "# Perform PCA\n",
    "pca_result1 <- rda(X_scaled1)\n",
    "\n",
    "# Extract the loadings\n",
    "loadings1 <- scores(pca_result1, display = \"species\")\n",
    "\n",
    "# Print the loadings\n",
    "print(loadings1)\n",
    "\n",
    "summary(pca_result1)"
   ]
  },
  {
   "cell_type": "markdown",
   "metadata": {},
   "source": [
    "# 3. CLUSTER 2"
   ]
  },
  {
   "cell_type": "code",
   "execution_count": 17,
   "metadata": {},
   "outputs": [
    {
     "name": "stdout",
     "output_type": "stream",
     "text": [
      " [1] \"BEZEICHNER\"     \"messstelle\"     \"catch_area\"     \"CLST\"          \n",
      " [5] \"CRMS\"           \"SAND\"           \"SAST\"           \"MED-MOD\"       \n",
      " [9] \"MOD\"            \"MOD-LOW\"        \"LOW-XTRLOW\"     \"SSCL\"          \n",
      "[13] \"LOES\"           \"FORE\"           \"AGRH\"           \"ARBL\"          \n",
      "[17] \"GRAS\"           \"SETT\"           \"MEAN\"           \"MIN\"           \n",
      "[21] \"MAX\"            \"REG\"            \"ezg_name\"       \"ezg_id\"        \n",
      "[25] \"cluster\"        \"pegelnullpunkt\"\n"
     ]
    },
    {
     "name": "stderr",
     "output_type": "stream",
     "text": [
      "\u001b[1m\u001b[22mSaving 6.67 x 6.67 in image\n"
     ]
    }
   ],
   "source": [
    "# Load necessary libraries\n",
    "library(readxl)\n",
    "library(vegan)\n",
    "library(ggplot2)\n",
    "library(svglite)\n",
    "library(grid)  # Needed for annotation_custom\n",
    "\n",
    "# Define file path for cluster 1\n",
    "file_path <- \"C:/Users/Lenovo/Documents/Masterarbeit/Masterarbeit/3_arbeitsordner/PCA/PCA/cluster_2.xlsx\"\n",
    "\n",
    "# Load the data\n",
    "data <- read_excel(file_path)\n",
    "\n",
    "# Print the actual column names to understand the structure\n",
    "print(colnames(data))\n",
    "\n",
    "# Select only the numeric columns\n",
    "numeric_columns <- c('catch_area', 'CLST', 'CRMS', 'SAND', 'SAST', 'MED-MOD', \n",
    "                     'MOD', 'MOD-LOW', 'LOW-XTRLOW', 'SSCL', 'LOES', 'FORE', \n",
    "                     'AGRH', 'ARBL', 'GRAS', 'SETT', 'MEAN', 'MIN', 'MAX', \n",
    "                     'pegelnullpunkt')\n",
    "\n",
    "data_numeric <- data[, numeric_columns]\n",
    "\n",
    "# Standardize the features\n",
    "X_scaled2 <- scale(data_numeric)\n",
    "\n",
    "# Perform PCA\n",
    "pca_result2 <- rda(X_scaled2)\n",
    "\n",
    "# Extract PCA scores\n",
    "scores <- scores(pca_result2, display = \"sites\")\n",
    "pca_df <- data.frame(PC1 = scores[, 1], PC2 = scores[, 2], cluster = \"Cluster 2\")\n",
    "\n",
    "# Extract variable vectors\n",
    "vectors <- scores(pca_result2, display = \"species\")\n",
    "\n",
    "# Define color for the cluster\n",
    "color <- 'orange'\n",
    "\n",
    "# Plot the PCA results\n",
    "p2 <- ggplot(pca_df, aes(x = PC1, y = PC2, color = cluster)) +\n",
    "  geom_point(size = 3, alpha = 0.6) +\n",
    "  scale_color_manual(values = setNames(color, \"Cluster 2\")) +\n",
    "  theme_minimal() +\n",
    "  ggtitle('') +\n",
    "  xlab('PC1') +\n",
    "  ylab('PC2') +\n",
    "  theme(legend.title = element_blank(),\n",
    "        legend.position = c(0.90, 0.90),  # Position legend inside the plot\n",
    "        legend.background = element_rect(fill = alpha('white', 0.5)),  # Make the legend background semi-transparent\n",
    "        panel.grid = element_blank(),\n",
    "        axis.line = element_line(size = 0.5),\n",
    "        panel.border = element_rect(color = \"black\", fill = NA, size = 0.5),\n",
    "        axis.ticks = element_line(size = 0.5)) +\n",
    "  geom_hline(yintercept = 0, linetype = \"dotted\", color = \"black\") +\n",
    "  geom_vline(xintercept = 0, linetype = \"dotted\", color = \"black\") +\n",
    "  geom_segment(data = as.data.frame(vectors), aes(x = 0, y = 0, xend = PC1, yend = PC2), \n",
    "               arrow = arrow(length = unit(0.2, \"cm\")), color = \"black\") +\n",
    "  geom_text(data = as.data.frame(vectors), aes(x = PC1, y = PC2, label = rownames(vectors)), \n",
    "            color = \"blue\", vjust = 1.5, hjust = 1.5, size = 3) +\n",
    "  coord_fixed(xlim = c(-3, 3), ylim = c(-2, 2)) +  # Ensure equal scaling of both axes\n",
    "  annotation_custom(grob = textGrob(\"(b)\", x = unit(0.05, \"npc\"), y = unit(0.95, \"npc\"), gp = gpar(fontsize = 15)))  # Add (a) in the plot\n",
    "\n",
    "# Save the plot as SVG\n",
    "ggsave(\"PCA_plot_cluster_2_with_annotations.svg\", plot = p2, device = \"svg\")\n",
    "\n"
   ]
  },
  {
   "cell_type": "markdown",
   "metadata": {},
   "source": [
    "### Loadings"
   ]
  },
  {
   "cell_type": "code",
   "execution_count": 28,
   "metadata": {},
   "outputs": [
    {
     "name": "stdout",
     "output_type": "stream",
     "text": [
      "                       PC1         PC2\n",
      "catch_area     -0.20598156 -0.19576125\n",
      "CLST           -0.08612698 -0.79949049\n",
      "CRMS            0.60044253  0.37967990\n",
      "SAND            0.07266430  0.57456572\n",
      "SAST           -0.44351517  0.73025480\n",
      "MED-MOD        -0.67506787  0.16030145\n",
      "MOD            -0.37831598 -0.31161095\n",
      "MOD-LOW        -0.17635102  0.82242622\n",
      "LOW-XTRLOW      0.66670017 -0.58407028\n",
      "SSCL            0.30944981  0.36618018\n",
      "LOES            0.80945423  0.28175910\n",
      "FORE           -0.57957459 -0.05241245\n",
      "AGRH           -0.32651387  0.25745685\n",
      "ARBL            0.84642255 -0.13029868\n",
      "GRAS           -0.78353155 -0.04347315\n",
      "SETT           -0.34330322  0.12007020\n",
      "MEAN           -0.82273017 -0.33037675\n",
      "MIN            -0.65031740 -0.04257725\n",
      "MAX            -0.35596807 -0.04430504\n",
      "pegelnullpunkt  0.08759451 -0.18026414\n",
      "attr(,\"const\")\n",
      "[1] 4.527019\n"
     ]
    },
    {
     "data": {
      "text/plain": [
       "\n",
       "Call:\n",
       "rda(X = X_scaled2) \n",
       "\n",
       "Partitioning of variance:\n",
       "              Inertia Proportion\n",
       "Total              20          1\n",
       "Unconstrained      20          1\n",
       "\n",
       "Eigenvalues, and their contribution to the variance \n",
       "\n",
       "Importance of components:\n",
       "                         PC1    PC2    PC3    PC4     PC5     PC6     PC7\n",
       "Eigenvalue            5.4286 3.2074 2.2027 2.1629 1.52728 1.32088 1.17489\n",
       "Proportion Explained  0.2714 0.1604 0.1101 0.1081 0.07636 0.06604 0.05874\n",
       "Cumulative Proportion 0.2714 0.4318 0.5419 0.6501 0.72645 0.79249 0.85123\n",
       "                          PC8     PC9    PC10    PC11     PC12     PC13\n",
       "Eigenvalue            0.77680 0.60482 0.57780 0.45527 0.198987 0.136533\n",
       "Proportion Explained  0.03884 0.03024 0.02889 0.02276 0.009949 0.006827\n",
       "Cumulative Proportion 0.89007 0.92032 0.94921 0.97197 0.981918 0.988745\n",
       "                          PC14     PC15     PC16      PC17      PC18      PC19\n",
       "Eigenvalue            0.085091 0.067742 0.039811 0.0178034 0.0101045 0.0027615\n",
       "Proportion Explained  0.004255 0.003387 0.001991 0.0008902 0.0005052 0.0001381\n",
       "Cumulative Proportion 0.992999 0.996386 0.998377 0.9992671 0.9997724 0.9999104\n",
       "                           PC20\n",
       "Eigenvalue            1.791e-03\n",
       "Proportion Explained  8.957e-05\n",
       "Cumulative Proportion 1.000e+00\n"
      ]
     },
     "metadata": {},
     "output_type": "display_data"
    }
   ],
   "source": [
    "# Perform PCA\n",
    "pca_result2 <- rda(X_scaled2)\n",
    "\n",
    "# Extract the loadings\n",
    "loadings2 <- scores(pca_result2, display = \"species\")\n",
    "\n",
    "# Print the loadings\n",
    "print(loadings2)\n",
    "\n",
    "summary(pca_result2)"
   ]
  },
  {
   "cell_type": "markdown",
   "metadata": {},
   "source": [
    "# 4. CLUSTER 3"
   ]
  },
  {
   "cell_type": "code",
   "execution_count": 27,
   "metadata": {},
   "outputs": [
    {
     "name": "stdout",
     "output_type": "stream",
     "text": [
      " [1] \"BEZEICHNER\"     \"messstelle\"     \"catch_area\"     \"CLST\"          \n",
      " [5] \"CRMS\"           \"SAND\"           \"SAST\"           \"MED-MOD\"       \n",
      " [9] \"MOD\"            \"MOD-LOW\"        \"LOW-XTRLOW\"     \"SSCL\"          \n",
      "[13] \"LOES\"           \"FORE\"           \"AGRH\"           \"ARBL\"          \n",
      "[17] \"GRAS\"           \"SETT\"           \"MEAN\"           \"MIN\"           \n",
      "[21] \"MAX\"            \"REG\"            \"ezg_name\"       \"ezg_id\"        \n",
      "[25] \"cluster\"        \"pegelnullpunkt\"\n"
     ]
    },
    {
     "name": "stderr",
     "output_type": "stream",
     "text": [
      "\u001b[1m\u001b[22mSaving 6.67 x 6.67 in image\n"
     ]
    },
    {
     "data": {
      "image/png": "[encoded data removed]",
      "text/plain": [
       "plot without title"
      ]
     },
     "metadata": {
      "image/png": {
       "height": 420,
       "width": 420
      }
     },
     "output_type": "display_data"
    }
   ],
   "source": [
    "# Load necessary libraries\n",
    "library(readxl)\n",
    "library(vegan)\n",
    "library(ggplot2)\n",
    "library(svglite)\n",
    "library(grid)  # Needed for annotation_custom\n",
    "\n",
    "# Define file path for cluster 1\n",
    "file_path <- \"C:/Users/Lenovo/Documents/Masterarbeit/Masterarbeit/3_arbeitsordner/PCA/PCA/cluster_3.xlsx\"\n",
    "\n",
    "# Load the data\n",
    "data <- read_excel(file_path)\n",
    "\n",
    "# Print the actual column names to understand the structure\n",
    "print(colnames(data))\n",
    "\n",
    "# Select only the numeric columns\n",
    "numeric_columns <- c('catch_area', 'CLST', 'CRMS', 'SAND', 'SAST', 'MED-MOD', \n",
    "                     'MOD', 'MOD-LOW', 'LOW-XTRLOW', 'SSCL', 'LOES', 'FORE', \n",
    "                     'AGRH', 'ARBL', 'GRAS', 'SETT', 'MEAN', 'MIN', 'MAX', \n",
    "                     'pegelnullpunkt')\n",
    "\n",
    "data_numeric <- data[, numeric_columns]\n",
    "\n",
    "# Standardize the features\n",
    "X_scaled3 <- scale(data_numeric)\n",
    "\n",
    "# Perform PCA\n",
    "pca_result3 <- rda(X_scaled3)\n",
    "\n",
    "# Extract PCA scores\n",
    "scores <- scores(pca_result3, display = \"sites\")\n",
    "pca_df <- data.frame(PC1 = scores[, 1], PC2 = scores[, 2], cluster = \"Cluster 3\")\n",
    "\n",
    "# Extract variable vectors\n",
    "vectors <- scores(pca_result3, display = \"species\")\n",
    "\n",
    "# Define color for the cluster\n",
    "color <- 'green'\n",
    "\n",
    "# Plot the PCA results\n",
    "p3 <- ggplot(pca_df, aes(x = PC1, y = PC2, color = cluster)) +\n",
    "  geom_point(size = 3, alpha = 0.6) +\n",
    "  scale_color_manual(values = setNames(color, \"Cluster 3\")) +\n",
    "  theme_minimal() +\n",
    "  ggtitle('') +\n",
    "  xlab('PC1') +\n",
    "  ylab('PC2') +\n",
    "  theme(legend.title = element_blank(),\n",
    "        legend.position = c(0.90, 0.90),  # Position legend inside the plot\n",
    "        legend.background = element_rect(fill = alpha('white', 0.5)),  # Make the legend background semi-transparent\n",
    "        panel.grid = element_blank(),\n",
    "        axis.line = element_line(size = 0.5),\n",
    "        panel.border = element_rect(color = \"black\", fill = NA, size = 0.5),\n",
    "        axis.ticks = element_line(size = 0.5)) +\n",
    "  geom_hline(yintercept = 0, linetype = \"dotted\", color = \"black\") +\n",
    "  geom_vline(xintercept = 0, linetype = \"dotted\", color = \"black\") +\n",
    "  geom_segment(data = as.data.frame(vectors), aes(x = 0, y = 0, xend = PC1, yend = PC2), \n",
    "               arrow = arrow(length = unit(0.2, \"cm\")), color = \"black\") +\n",
    "  geom_text(data = as.data.frame(vectors), aes(x = PC1, y = PC2, label = rownames(vectors)), \n",
    "            color = \"blue\", vjust = 1.5, hjust = 1.5, size = 3) +\n",
    "  coord_fixed(xlim = c(-3, 3), ylim = c(-2, 2)) +  # Ensure equal scaling of both axes\n",
    "  annotation_custom(grob = textGrob(\"(a)\", x = unit(0.05, \"npc\"), y = unit(0.95, \"npc\"), gp = gpar(fontsize = 15)))  # Add (a) in the plot\n",
    "\n",
    "# Save the plot as SVG\n",
    "ggsave(\"PCA_plot_cluster_3_with_annotations.svg\", plot = p3, device = \"svg\")\n",
    "\n",
    "print(p3)"
   ]
  },
  {
   "cell_type": "markdown",
   "metadata": {},
   "source": [
    "### Loadings "
   ]
  },
  {
   "cell_type": "code",
   "execution_count": 29,
   "metadata": {},
   "outputs": [
    {
     "name": "stdout",
     "output_type": "stream",
     "text": [
      "                       PC1         PC2\n",
      "catch_area      0.60711807 -0.38274596\n",
      "CLST            0.73204424  0.06519053\n",
      "CRMS            0.01924018 -0.63516371\n",
      "SAND           -0.29972971 -0.14958632\n",
      "SAST           -0.36928907  0.55580904\n",
      "MED-MOD         0.33439727  0.38620129\n",
      "MOD             0.73204424  0.06519053\n",
      "MOD-LOW        -0.56702515  0.12806542\n",
      "LOW-XTRLOW      0.52460528 -0.49798002\n",
      "SSCL           -0.11397725  0.37642500\n",
      "LOES           -0.28953028 -0.54875217\n",
      "FORE            0.07123434  0.55844960\n",
      "AGRH            0.74716220 -0.02032768\n",
      "ARBL           -0.17008756 -0.56375439\n",
      "GRAS            0.10984486  0.19963855\n",
      "SETT            0.57863594  0.08755478\n",
      "MEAN            0.36650536  0.53678632\n",
      "MIN            -0.40188475  0.32995394\n",
      "MAX             0.59406987  0.29445663\n",
      "pegelnullpunkt -0.16136975  0.20962138\n",
      "attr(,\"const\")\n",
      "[1] 3.439791\n"
     ]
    },
    {
     "data": {
      "text/plain": [
       "\n",
       "Call:\n",
       "rda(X = X_scaled3) \n",
       "\n",
       "Partitioning of variance:\n",
       "              Inertia Proportion\n",
       "Total              20          1\n",
       "Unconstrained      20          1\n",
       "\n",
       "Eigenvalues, and their contribution to the variance \n",
       "\n",
       "Importance of components:\n",
       "                         PC1    PC2    PC3    PC4     PC5     PC6     PC7\n",
       "Eigenvalue            6.9070 4.9887 3.4420 2.3804 1.82336 0.24442 0.21412\n",
       "Proportion Explained  0.3454 0.2494 0.1721 0.1190 0.09117 0.01222 0.01071\n",
       "Cumulative Proportion 0.3454 0.5948 0.7669 0.8859 0.97707 0.98929 1.00000\n"
      ]
     },
     "metadata": {},
     "output_type": "display_data"
    }
   ],
   "source": [
    "# Perform PCA\n",
    "pca_result3 <- rda(X_scaled3)\n",
    "\n",
    "# Extract the loadings\n",
    "loadings3 <- scores(pca_result3, display = \"species\")\n",
    "\n",
    "# Print the loadings\n",
    "print(loadings3)\n",
    "\n",
    "summary(pca_result3)"
   ]
  },
  {
   "cell_type": "markdown",
   "metadata": {},
   "source": [
    "# 5. CLUSTER 4"
   ]
  },
  {
   "cell_type": "code",
   "execution_count": null,
   "metadata": {},
   "outputs": [],
   "source": [
    "# Load necessary libraries\n",
    "library(readxl)\n",
    "library(vegan)\n",
    "library(ggplot2)\n",
    "library(svglite)\n",
    "library(grid)  # Needed for annotation_custom\n",
    "\n",
    "# Define file path for cluster 1\n",
    "file_path <- \"C:/Users/Lenovo/Documents/Masterarbeit/Masterarbeit/3_arbeitsordner/PCA/PCA/cluster_4.xlsx\"\n",
    "\n",
    "# Load the data\n",
    "data <- read_excel(file_path)\n",
    "\n",
    "# Print the actual column names to understand the structure\n",
    "print(colnames(data))\n",
    "\n",
    "# Select only the numeric columns\n",
    "numeric_columns <- c('catch_area', 'CLST', 'CRMS', 'SAND', 'SAST', 'MED-MOD', \n",
    "                      'MOD-LOW', 'LOW-XTRLOW', 'SSCL', 'LOES', 'FORE', \n",
    "                     'AGRH', 'ARBL', 'GRAS', 'SETT', 'MEAN', 'MIN', 'MAX', \n",
    "                     'pegelnullpunkt')\n",
    "\n",
    "data_numeric <- data[, numeric_columns]\n",
    "\n",
    "# Standardize the features\n",
    "X_scaled4 <- scale(data_numeric)\n",
    "\n",
    "# Perform PCA\n",
    "pca_result4 <- rda(X_scaled4)\n",
    "\n",
    "# Extract PCA scores\n",
    "scores <- scores(pca_result4, display = \"sites\")\n",
    "pca_df <- data.frame(PC1 = scores[, 1], PC2 = scores[, 2], cluster = \"Cluster 4\")\n",
    "\n",
    "# Extract variable vectors\n",
    "vectors <- scores(pca_result4, display = \"species\")\n",
    "\n",
    "# Define color for the cluster\n",
    "color <- 'red'\n",
    "\n",
    "# Plot the PCA results\n",
    "p4 <- ggplot(pca_df, aes(x = PC1, y = PC2, color = cluster)) +\n",
    "  geom_point(size = 3, alpha = 0.6) +\n",
    "  scale_color_manual(values = setNames(color, \"Cluster 4\")) +\n",
    "  theme_minimal() +\n",
    "  ggtitle('') +\n",
    "  xlab('PC1') +\n",
    "  ylab('PC2') +\n",
    "  theme(legend.title = element_blank(),\n",
    "        legend.position = c(0.90, 0.90),  # Position legend inside the plot\n",
    "        legend.background = element_rect(fill = alpha('white', 0.5)),  # Make the legend background semi-transparent\n",
    "        panel.grid = element_blank(),\n",
    "        axis.line = element_line(size = 0.5),\n",
    "        panel.border = element_rect(color = \"black\", fill = NA, size = 0.5),\n",
    "        axis.ticks = element_line(size = 0.5)) +\n",
    "  geom_hline(yintercept = 0, linetype = \"dotted\", color = \"black\") +\n",
    "  geom_vline(xintercept = 0, linetype = \"dotted\", color = \"black\") +\n",
    "  geom_segment(data = as.data.frame(vectors), aes(x = 0, y = 0, xend = PC1, yend = PC2), \n",
    "               arrow = arrow(length = unit(0.2, \"cm\")), color = \"black\") +\n",
    "  geom_text(data = as.data.frame(vectors), aes(x = PC1, y = PC2, label = rownames(vectors)), \n",
    "            color = \"blue\", vjust = 1.5, hjust = 1.5, size = 3) +\n",
    "  coord_fixed(xlim = c(-3, 3), ylim = c(-2, 2)) +  # Ensure equal scaling of both axes\n",
    "  annotation_custom(grob = textGrob(\"(b)\", x = unit(0.05, \"npc\"), y = unit(0.95, \"npc\"), gp = gpar(fontsize = 15)))  # Add (a) in the plot\n",
    "\n",
    "# Save the plot as SVG\n",
    "ggsave(\"PCA_plot_cluster_4_with_annotations.svg\", plot = p4, device = \"svg\")\n"
   ]
  },
  {
   "cell_type": "markdown",
   "metadata": {},
   "source": [
    "### Loadings"
   ]
  },
  {
   "cell_type": "code",
   "execution_count": 30,
   "metadata": {},
   "outputs": [
    {
     "name": "stdout",
     "output_type": "stream",
     "text": [
      "                      PC1         PC2\n",
      "catch_area      0.1997118  0.60260887\n",
      "CLST           -0.2750564  0.27223887\n",
      "CRMS           -0.4140448 -0.42913357\n",
      "SAND           -0.1812442 -0.17540081\n",
      "SAST           -0.3809245  0.31416351\n",
      "MED-MOD        -0.5963484 -0.10201539\n",
      "MOD-LOW         0.4751574  0.35668264\n",
      "LOW-XTRLOW      0.5357913 -0.34733371\n",
      "SSCL            0.2543076 -0.14082264\n",
      "LOES           -0.4636740 -0.37431932\n",
      "FORE           -0.6603741  0.04860887\n",
      "AGRH            0.6444607  0.03145259\n",
      "ARBL            0.6055020  0.17568709\n",
      "GRAS            0.4909382 -0.42054212\n",
      "SETT            0.5870180 -0.24708775\n",
      "MEAN           -0.3131647  0.53049394\n",
      "MIN             0.5681367  0.30729280\n",
      "MAX            -0.5006238  0.43021718\n",
      "pegelnullpunkt -0.3810816 -0.38481766\n",
      "attr(,\"const\")\n",
      "[1] 2.952592\n"
     ]
    },
    {
     "data": {
      "text/plain": [
       "\n",
       "Call:\n",
       "rda(X = X_scaled4) \n",
       "\n",
       "Partitioning of variance:\n",
       "              Inertia Proportion\n",
       "Total              19          1\n",
       "Unconstrained      19          1\n",
       "\n",
       "Eigenvalues, and their contribution to the variance \n",
       "\n",
       "Importance of components:\n",
       "                         PC1    PC2    PC3    PC4\n",
       "Eigenvalue            9.2266 4.6863 2.8522 2.2349\n",
       "Proportion Explained  0.4856 0.2466 0.1501 0.1176\n",
       "Cumulative Proportion 0.4856 0.7323 0.8824 1.0000\n"
      ]
     },
     "metadata": {},
     "output_type": "display_data"
    }
   ],
   "source": [
    "# Perform PCA\n",
    "pca_result4 <- rda(X_scaled4)\n",
    "\n",
    "# Extract the loadings\n",
    "loadings4 <- scores(pca_result4, display = \"species\")\n",
    "\n",
    "# Print the loadings\n",
    "print(loadings4)\n",
    "\n",
    "summary(pca_result4)"
   ]
  }
 ],
 "metadata": {
  "kernelspec": {
   "display_name": "Python 3",
   "language": "python",
   "name": "python3"
  },
  "language_info": {
   "codemirror_mode": {
    "name": "ipython",
    "version": 3
   },
   "file_extension": ".py",
   "mimetype": "text/x-python",
   "name": "python",
   "nbconvert_exporter": "python",
   "pygments_lexer": "ipython3",
   "version": "3.11.5"
  }
 },
 "nbformat": 4,
 "nbformat_minor": 2
}
